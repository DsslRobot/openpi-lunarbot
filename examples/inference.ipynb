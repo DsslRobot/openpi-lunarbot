{
    "cells": [
        {
            "cell_type": "code",
            "execution_count": 1,
            "metadata": {},
            "outputs": [],
            "source": [
                "import dataclasses\n",
                "\n",
                "import jax\n",
                "\n",
                "from openpi.models import model as _model\n",
                "from openpi.policies import droid_policy\n",
                "from openpi.policies import policy_config as _policy_config\n",
                "from openpi.shared import download\n",
                "from openpi.training import config as _config\n",
                "from openpi.training import data_loader as _data_loader"
            ]
        },
        {
            "cell_type": "markdown",
            "metadata": {},
            "source": [
                "# Policy inference\n",
                "\n",
                "The following example shows how to create a policy from a checkpoint and run inference on a dummy example."
            ]
        },
        {
            "cell_type": "code",
            "execution_count": 5,
            "metadata": {},
            "outputs": [
                {
                    "data": {
                        "application/vnd.jupyter.widget-view+json": {
                            "model_id": "25a5628cf4c74b17910bb06f7b850a27",
                            "version_major": 2,
                            "version_minor": 0
                        },
                        "text/plain": [
                            "  0%|          | 0.00/4.07M [00:00<?, ?iB/s]"
                        ]
                    },
                    "metadata": {},
                    "output_type": "display_data"
                },
                {
                    "data": {
                        "application/vnd.jupyter.widget-view+json": {
                            "model_id": "83c06538d3aa4115a5b88b9bbcdb2bc1",
                            "version_major": 2,
                            "version_minor": 0
                        },
                        "text/plain": [
                            "processor_config.json:   0%|          | 0.00/253 [00:00<?, ?B/s]"
                        ]
                    },
                    "metadata": {},
                    "output_type": "display_data"
                },
                {
                    "data": {
                        "application/vnd.jupyter.widget-view+json": {
                            "model_id": "3aebf5e7cb154c5d91dbd956bb912cbe",
                            "version_major": 2,
                            "version_minor": 0
                        },
                        "text/plain": [
                            "processing_action_tokenizer.py: 0.00B [00:00, ?B/s]"
                        ]
                    },
                    "metadata": {},
                    "output_type": "display_data"
                },
                {
                    "name": "stderr",
                    "output_type": "stream",
                    "text": [
                        "A new version of the following files was downloaded from https://huggingface.co/physical-intelligence/fast:\n",
                        "- processing_action_tokenizer.py\n",
                        ". Make sure to double-check they do not contain any added malicious code. To avoid downloading new versions of the code file, you can pin a revision.\n"
                    ]
                },
                {
                    "data": {
                        "application/vnd.jupyter.widget-view+json": {
                            "model_id": "76d35fa6796f487094141a3fdb55d8a1",
                            "version_major": 2,
                            "version_minor": 0
                        },
                        "text/plain": [
                            "tokenizer_config.json:   0%|          | 0.00/322 [00:00<?, ?B/s]"
                        ]
                    },
                    "metadata": {},
                    "output_type": "display_data"
                },
                {
                    "data": {
                        "application/vnd.jupyter.widget-view+json": {
                            "model_id": "c62168aad12147e7a928d868caafdb47",
                            "version_major": 2,
                            "version_minor": 0
                        },
                        "text/plain": [
                            "tokenizer.json: 0.00B [00:00, ?B/s]"
                        ]
                    },
                    "metadata": {},
                    "output_type": "display_data"
                },
                {
                    "data": {
                        "application/vnd.jupyter.widget-view+json": {
                            "model_id": "913a2c8d5aa8411d93b42e16bc04929b",
                            "version_major": 2,
                            "version_minor": 0
                        },
                        "text/plain": [
                            "special_tokens_map.json:   0%|          | 0.00/3.00 [00:00<?, ?B/s]"
                        ]
                    },
                    "metadata": {},
                    "output_type": "display_data"
                },
                {
                    "name": "stdout",
                    "output_type": "stream",
                    "text": [
                        "Actions shape: (10, 8)\n"
                    ]
                }
            ],
            "source": [
                "config = _config.get_config(\"pi0_fast_droid\")\n",
                "checkpoint_dir = download.maybe_download(\"gs://openpi-assets/checkpoints/pi0_fast_droid\")\n",
                "\n",
                "# Create a trained policy.\n",
                "policy = _policy_config.create_trained_policy(config, checkpoint_dir)\n",
                "\n",
                "# Run inference on a dummy example. This example corresponds to observations produced by the DROID runtime.\n",
                "example = droid_policy.make_droid_example()\n",
                "result = policy.infer(example)\n",
                "\n",
                "# Delete the policy to free up memory.\n",
                "del policy\n",
                "\n",
                "print(\"Actions shape:\", result[\"actions\"].shape)"
            ]
        },
        {
            "cell_type": "markdown",
            "metadata": {},
            "source": [
                "# Working with a live model\n",
                "\n",
                "\n",
                "The following example shows how to create a live model from a checkpoint and compute training loss. First, we are going to demonstrate how to do it with fake data.\n"
            ]
        },
        {
            "cell_type": "code",
            "execution_count": 2,
            "metadata": {},
            "outputs": [
                {
                    "name": "stdout",
                    "output_type": "stream",
                    "text": [
                        "Loss shape: (1, 50)\n"
                    ]
                }
            ],
            "source": [
                "config = _config.get_config(\"pi0_aloha_sim\")\n",
                "\n",
                "checkpoint_dir = download.maybe_download(\"gs://openpi-assets/checkpoints/pi0_aloha_sim\")\n",
                "key = jax.random.key(0)\n",
                "\n",
                "# Create a model from the checkpoint.\n",
                "model = config.model.load(_model.restore_params(checkpoint_dir / \"params\"))\n",
                "\n",
                "# We can create fake observations and actions to test the model.\n",
                "obs, act = config.model.fake_obs(), config.model.fake_act()\n",
                "\n",
                "# Sample actions from the model.\n",
                "loss = model.compute_loss(key, obs, act)\n",
                "print(\"Loss shape:\", loss.shape)"
            ]
        },
        {
            "cell_type": "markdown",
            "metadata": {},
            "source": [
                "Now, we are going to create a data loader and use a real batch of training data to compute the loss."
            ]
        },
        {
            "cell_type": "code",
            "execution_count": 3,
            "metadata": {},
            "outputs": [
                {
                    "data": {
                        "application/vnd.jupyter.widget-view+json": {
                            "model_id": "27f4a399aaff4b8fa7683e438a270380",
                            "version_major": 2,
                            "version_minor": 0
                        },
                        "text/plain": [
                            "Fetching 4 files:   0%|          | 0/4 [00:00<?, ?it/s]"
                        ]
                    },
                    "metadata": {},
                    "output_type": "display_data"
                },
                {
                    "data": {
                        "application/vnd.jupyter.widget-view+json": {
                            "model_id": "861276a2eca5411cbba3dd6955e9c51f",
                            "version_major": 2,
                            "version_minor": 0
                        },
                        "text/plain": [
                            "episodes.jsonl: 0.00B [00:00, ?B/s]"
                        ]
                    },
                    "metadata": {},
                    "output_type": "display_data"
                },
                {
                    "data": {
                        "application/vnd.jupyter.widget-view+json": {
                            "model_id": "a1def822836a4b7e86ed0bd30888387a",
                            "version_major": 2,
                            "version_minor": 0
                        },
                        "text/plain": [
                            "episodes_stats.jsonl: 0.00B [00:00, ?B/s]"
                        ]
                    },
                    "metadata": {},
                    "output_type": "display_data"
                },
                {
                    "data": {
                        "application/vnd.jupyter.widget-view+json": {
                            "model_id": "9e5a9f09ca1247b2a312c23939717fab",
                            "version_major": 2,
                            "version_minor": 0
                        },
                        "text/plain": [
                            "tasks.jsonl:   0%|          | 0.00/98.0 [00:00<?, ?B/s]"
                        ]
                    },
                    "metadata": {},
                    "output_type": "display_data"
                },
                {
                    "data": {
                        "application/vnd.jupyter.widget-view+json": {
                            "model_id": "e15c46d6c88f4485b214fb3f18b4bc98",
                            "version_major": 2,
                            "version_minor": 0
                        },
                        "text/plain": [
                            "info.json: 0.00B [00:00, ?B/s]"
                        ]
                    },
                    "metadata": {},
                    "output_type": "display_data"
                },
                {
                    "data": {
                        "application/vnd.jupyter.widget-view+json": {
                            "model_id": "bb5ac2e548654159a7abc4259b45c2ab",
                            "version_major": 2,
                            "version_minor": 0
                        },
                        "text/plain": [
                            "Fetching 106 files:   0%|          | 0/106 [00:00<?, ?it/s]"
                        ]
                    },
                    "metadata": {},
                    "output_type": "display_data"
                },
                {
                    "data": {
                        "application/vnd.jupyter.widget-view+json": {
                            "model_id": "3f90d6f08b7146babdbae4c2c6a32d3a",
                            "version_major": 2,
                            "version_minor": 0
                        },
                        "text/plain": [
                            ".gitattributes: 0.00B [00:00, ?B/s]"
                        ]
                    },
                    "metadata": {},
                    "output_type": "display_data"
                },
                {
                    "data": {
                        "application/vnd.jupyter.widget-view+json": {
                            "model_id": "cd7c4c911eb74fe6be6409940e15b498",
                            "version_major": 2,
                            "version_minor": 0
                        },
                        "text/plain": [
                            "README.md: 0.00B [00:00, ?B/s]"
                        ]
                    },
                    "metadata": {},
                    "output_type": "display_data"
                },
                {
                    "data": {
                        "application/vnd.jupyter.widget-view+json": {
                            "model_id": "9ad4b359f76f4259bdf90d7099bfec71",
                            "version_major": 2,
                            "version_minor": 0
                        },
                        "text/plain": [
                            "data/chunk-000/episode_000001.parquet:   0%|          | 0.00/52.7k [00:00<?, ?B/s]"
                        ]
                    },
                    "metadata": {},
                    "output_type": "display_data"
                },
                {
                    "data": {
                        "application/vnd.jupyter.widget-view+json": {
                            "model_id": "1e273f9e56314e69881bbb5e6a0ee37c",
                            "version_major": 2,
                            "version_minor": 0
                        },
                        "text/plain": [
                            "data/chunk-000/episode_000000.parquet:   0%|          | 0.00/52.2k [00:00<?, ?B/s]"
                        ]
                    },
                    "metadata": {},
                    "output_type": "display_data"
                },
                {
                    "data": {
                        "application/vnd.jupyter.widget-view+json": {
                            "model_id": "d56ba6647b7a41cdb3dedbfdbca4841a",
                            "version_major": 2,
                            "version_minor": 0
                        },
                        "text/plain": [
                            "data/chunk-000/episode_000002.parquet:   0%|          | 0.00/54.6k [00:00<?, ?B/s]"
                        ]
                    },
                    "metadata": {},
                    "output_type": "display_data"
                },
                {
                    "data": {
                        "application/vnd.jupyter.widget-view+json": {
                            "model_id": "d6a669c4a5d74ed6b694eabc33b9f5ba",
                            "version_major": 2,
                            "version_minor": 0
                        },
                        "text/plain": [
                            "data/chunk-000/episode_000005.parquet:   0%|          | 0.00/53.7k [00:00<?, ?B/s]"
                        ]
                    },
                    "metadata": {},
                    "output_type": "display_data"
                },
                {
                    "data": {
                        "application/vnd.jupyter.widget-view+json": {
                            "model_id": "1f7093b388554dc1baa1d0dfde5f643e",
                            "version_major": 2,
                            "version_minor": 0
                        },
                        "text/plain": [
                            "data/chunk-000/episode_000004.parquet:   0%|          | 0.00/52.5k [00:00<?, ?B/s]"
                        ]
                    },
                    "metadata": {},
                    "output_type": "display_data"
                },
                {
                    "data": {
                        "application/vnd.jupyter.widget-view+json": {
                            "model_id": "0c370a44afa24143a0fd5e32e32f294b",
                            "version_major": 2,
                            "version_minor": 0
                        },
                        "text/plain": [
                            "data/chunk-000/episode_000003.parquet:   0%|          | 0.00/53.8k [00:00<?, ?B/s]"
                        ]
                    },
                    "metadata": {},
                    "output_type": "display_data"
                },
                {
                    "data": {
                        "application/vnd.jupyter.widget-view+json": {
                            "model_id": "6ed69540a1104b23a590cc628a3d81eb",
                            "version_major": 2,
                            "version_minor": 0
                        },
                        "text/plain": [
                            "data/chunk-000/episode_000006.parquet:   0%|          | 0.00/53.0k [00:00<?, ?B/s]"
                        ]
                    },
                    "metadata": {},
                    "output_type": "display_data"
                },
                {
                    "data": {
                        "application/vnd.jupyter.widget-view+json": {
                            "model_id": "d857670b456c4851905c243816138d7e",
                            "version_major": 2,
                            "version_minor": 0
                        },
                        "text/plain": [
                            "data/chunk-000/episode_000007.parquet:   0%|          | 0.00/54.0k [00:00<?, ?B/s]"
                        ]
                    },
                    "metadata": {},
                    "output_type": "display_data"
                },
                {
                    "data": {
                        "application/vnd.jupyter.widget-view+json": {
                            "model_id": "7b4698ba33e9479798c5ac062afc2b50",
                            "version_major": 2,
                            "version_minor": 0
                        },
                        "text/plain": [
                            "data/chunk-000/episode_000008.parquet:   0%|          | 0.00/52.6k [00:00<?, ?B/s]"
                        ]
                    },
                    "metadata": {},
                    "output_type": "display_data"
                },
                {
                    "data": {
                        "application/vnd.jupyter.widget-view+json": {
                            "model_id": "a91eebe1776d49de94c76b5127b76f5d",
                            "version_major": 2,
                            "version_minor": 0
                        },
                        "text/plain": [
                            "data/chunk-000/episode_000009.parquet:   0%|          | 0.00/52.8k [00:00<?, ?B/s]"
                        ]
                    },
                    "metadata": {},
                    "output_type": "display_data"
                },
                {
                    "data": {
                        "application/vnd.jupyter.widget-view+json": {
                            "model_id": "e5d8e70f9e334eeb8c7fcf93e5a5e789",
                            "version_major": 2,
                            "version_minor": 0
                        },
                        "text/plain": [
                            "data/chunk-000/episode_000012.parquet:   0%|          | 0.00/54.2k [00:00<?, ?B/s]"
                        ]
                    },
                    "metadata": {},
                    "output_type": "display_data"
                },
                {
                    "data": {
                        "application/vnd.jupyter.widget-view+json": {
                            "model_id": "93ab83cd43a04981b8c3846c6e174977",
                            "version_major": 2,
                            "version_minor": 0
                        },
                        "text/plain": [
                            "data/chunk-000/episode_000010.parquet:   0%|          | 0.00/53.0k [00:00<?, ?B/s]"
                        ]
                    },
                    "metadata": {},
                    "output_type": "display_data"
                },
                {
                    "data": {
                        "application/vnd.jupyter.widget-view+json": {
                            "model_id": "0c4709f32bf34e8db98ff5225746e7cc",
                            "version_major": 2,
                            "version_minor": 0
                        },
                        "text/plain": [
                            "data/chunk-000/episode_000011.parquet:   0%|          | 0.00/52.8k [00:00<?, ?B/s]"
                        ]
                    },
                    "metadata": {},
                    "output_type": "display_data"
                },
                {
                    "data": {
                        "application/vnd.jupyter.widget-view+json": {
                            "model_id": "abadb9ab4a48440c87616bd895d60611",
                            "version_major": 2,
                            "version_minor": 0
                        },
                        "text/plain": [
                            "data/chunk-000/episode_000013.parquet:   0%|          | 0.00/52.3k [00:00<?, ?B/s]"
                        ]
                    },
                    "metadata": {},
                    "output_type": "display_data"
                },
                {
                    "data": {
                        "application/vnd.jupyter.widget-view+json": {
                            "model_id": "e29bb2341c934d1e9890a323222f9745",
                            "version_major": 2,
                            "version_minor": 0
                        },
                        "text/plain": [
                            "data/chunk-000/episode_000014.parquet:   0%|          | 0.00/53.8k [00:00<?, ?B/s]"
                        ]
                    },
                    "metadata": {},
                    "output_type": "display_data"
                },
                {
                    "data": {
                        "application/vnd.jupyter.widget-view+json": {
                            "model_id": "a1711b9397794be3b650642d3be94621",
                            "version_major": 2,
                            "version_minor": 0
                        },
                        "text/plain": [
                            "data/chunk-000/episode_000015.parquet:   0%|          | 0.00/52.8k [00:00<?, ?B/s]"
                        ]
                    },
                    "metadata": {},
                    "output_type": "display_data"
                },
                {
                    "data": {
                        "application/vnd.jupyter.widget-view+json": {
                            "model_id": "02c3ad928fab40829d7c006da5387276",
                            "version_major": 2,
                            "version_minor": 0
                        },
                        "text/plain": [
                            "data/chunk-000/episode_000016.parquet:   0%|          | 0.00/52.7k [00:00<?, ?B/s]"
                        ]
                    },
                    "metadata": {},
                    "output_type": "display_data"
                },
                {
                    "data": {
                        "application/vnd.jupyter.widget-view+json": {
                            "model_id": "0a851615c6d442128a3c91af0a113711",
                            "version_major": 2,
                            "version_minor": 0
                        },
                        "text/plain": [
                            "data/chunk-000/episode_000017.parquet:   0%|          | 0.00/52.6k [00:00<?, ?B/s]"
                        ]
                    },
                    "metadata": {},
                    "output_type": "display_data"
                },
                {
                    "data": {
                        "application/vnd.jupyter.widget-view+json": {
                            "model_id": "88850ab222774bd7a66c1d73feb4ac5e",
                            "version_major": 2,
                            "version_minor": 0
                        },
                        "text/plain": [
                            "data/chunk-000/episode_000019.parquet:   0%|          | 0.00/53.0k [00:00<?, ?B/s]"
                        ]
                    },
                    "metadata": {},
                    "output_type": "display_data"
                },
                {
                    "data": {
                        "application/vnd.jupyter.widget-view+json": {
                            "model_id": "234d4aeaff0b4e72a80ed7fd2f34c73f",
                            "version_major": 2,
                            "version_minor": 0
                        },
                        "text/plain": [
                            "data/chunk-000/episode_000018.parquet:   0%|          | 0.00/52.8k [00:00<?, ?B/s]"
                        ]
                    },
                    "metadata": {},
                    "output_type": "display_data"
                },
                {
                    "data": {
                        "application/vnd.jupyter.widget-view+json": {
                            "model_id": "95afa6d6397c464da80549f15b379298",
                            "version_major": 2,
                            "version_minor": 0
                        },
                        "text/plain": [
                            "data/chunk-000/episode_000020.parquet:   0%|          | 0.00/52.4k [00:00<?, ?B/s]"
                        ]
                    },
                    "metadata": {},
                    "output_type": "display_data"
                },
                {
                    "data": {
                        "application/vnd.jupyter.widget-view+json": {
                            "model_id": "9ebe8c352f6c45bb9667436ea5797626",
                            "version_major": 2,
                            "version_minor": 0
                        },
                        "text/plain": [
                            "data/chunk-000/episode_000023.parquet:   0%|          | 0.00/52.8k [00:00<?, ?B/s]"
                        ]
                    },
                    "metadata": {},
                    "output_type": "display_data"
                },
                {
                    "data": {
                        "application/vnd.jupyter.widget-view+json": {
                            "model_id": "1e97fd233422496f9cd0d0c7dea69b6e",
                            "version_major": 2,
                            "version_minor": 0
                        },
                        "text/plain": [
                            "data/chunk-000/episode_000022.parquet:   0%|          | 0.00/54.4k [00:00<?, ?B/s]"
                        ]
                    },
                    "metadata": {},
                    "output_type": "display_data"
                },
                {
                    "data": {
                        "application/vnd.jupyter.widget-view+json": {
                            "model_id": "f6d6f1450a85485b8e4de1c2e761a78f",
                            "version_major": 2,
                            "version_minor": 0
                        },
                        "text/plain": [
                            "data/chunk-000/episode_000021.parquet:   0%|          | 0.00/52.9k [00:00<?, ?B/s]"
                        ]
                    },
                    "metadata": {},
                    "output_type": "display_data"
                },
                {
                    "data": {
                        "application/vnd.jupyter.widget-view+json": {
                            "model_id": "447c37a7d7f84bf48fb9b92591dcf40e",
                            "version_major": 2,
                            "version_minor": 0
                        },
                        "text/plain": [
                            "data/chunk-000/episode_000024.parquet:   0%|          | 0.00/54.1k [00:00<?, ?B/s]"
                        ]
                    },
                    "metadata": {},
                    "output_type": "display_data"
                },
                {
                    "data": {
                        "application/vnd.jupyter.widget-view+json": {
                            "model_id": "804cc048e5c8408c8d8ae38ab4a06c81",
                            "version_major": 2,
                            "version_minor": 0
                        },
                        "text/plain": [
                            "data/chunk-000/episode_000025.parquet:   0%|          | 0.00/53.8k [00:00<?, ?B/s]"
                        ]
                    },
                    "metadata": {},
                    "output_type": "display_data"
                },
                {
                    "data": {
                        "application/vnd.jupyter.widget-view+json": {
                            "model_id": "3b23205a4e5d4779963ce13d05bbc6b6",
                            "version_major": 2,
                            "version_minor": 0
                        },
                        "text/plain": [
                            "data/chunk-000/episode_000026.parquet:   0%|          | 0.00/54.1k [00:00<?, ?B/s]"
                        ]
                    },
                    "metadata": {},
                    "output_type": "display_data"
                },
                {
                    "data": {
                        "application/vnd.jupyter.widget-view+json": {
                            "model_id": "200cac2389934755869c7e50b096a094",
                            "version_major": 2,
                            "version_minor": 0
                        },
                        "text/plain": [
                            "data/chunk-000/episode_000027.parquet:   0%|          | 0.00/52.4k [00:00<?, ?B/s]"
                        ]
                    },
                    "metadata": {},
                    "output_type": "display_data"
                },
                {
                    "data": {
                        "application/vnd.jupyter.widget-view+json": {
                            "model_id": "652984cfdf964a3ca5c1ec0346300df0",
                            "version_major": 2,
                            "version_minor": 0
                        },
                        "text/plain": [
                            "data/chunk-000/episode_000028.parquet:   0%|          | 0.00/53.4k [00:00<?, ?B/s]"
                        ]
                    },
                    "metadata": {},
                    "output_type": "display_data"
                },
                {
                    "data": {
                        "application/vnd.jupyter.widget-view+json": {
                            "model_id": "5457ecee5a7d45d0aca3e66a1d9497cc",
                            "version_major": 2,
                            "version_minor": 0
                        },
                        "text/plain": [
                            "data/chunk-000/episode_000030.parquet:   0%|          | 0.00/53.2k [00:00<?, ?B/s]"
                        ]
                    },
                    "metadata": {},
                    "output_type": "display_data"
                },
                {
                    "data": {
                        "application/vnd.jupyter.widget-view+json": {
                            "model_id": "00a2f5a42b0e49ed8d639ddbb10f9c3d",
                            "version_major": 2,
                            "version_minor": 0
                        },
                        "text/plain": [
                            "data/chunk-000/episode_000029.parquet:   0%|          | 0.00/54.2k [00:00<?, ?B/s]"
                        ]
                    },
                    "metadata": {},
                    "output_type": "display_data"
                },
                {
                    "data": {
                        "application/vnd.jupyter.widget-view+json": {
                            "model_id": "eafc72f1de7641189aa43aecce27a991",
                            "version_major": 2,
                            "version_minor": 0
                        },
                        "text/plain": [
                            "data/chunk-000/episode_000031.parquet:   0%|          | 0.00/54.1k [00:00<?, ?B/s]"
                        ]
                    },
                    "metadata": {},
                    "output_type": "display_data"
                },
                {
                    "data": {
                        "application/vnd.jupyter.widget-view+json": {
                            "model_id": "26aa4808ab534e8eb84fa196949aefe0",
                            "version_major": 2,
                            "version_minor": 0
                        },
                        "text/plain": [
                            "data/chunk-000/episode_000032.parquet:   0%|          | 0.00/52.8k [00:00<?, ?B/s]"
                        ]
                    },
                    "metadata": {},
                    "output_type": "display_data"
                },
                {
                    "data": {
                        "application/vnd.jupyter.widget-view+json": {
                            "model_id": "4fee451e290b4f4aacda3c992a6b67cc",
                            "version_major": 2,
                            "version_minor": 0
                        },
                        "text/plain": [
                            "data/chunk-000/episode_000033.parquet:   0%|          | 0.00/52.6k [00:00<?, ?B/s]"
                        ]
                    },
                    "metadata": {},
                    "output_type": "display_data"
                },
                {
                    "data": {
                        "application/vnd.jupyter.widget-view+json": {
                            "model_id": "344cbcca411c4099955110d04fa4f238",
                            "version_major": 2,
                            "version_minor": 0
                        },
                        "text/plain": [
                            "data/chunk-000/episode_000034.parquet:   0%|          | 0.00/53.9k [00:00<?, ?B/s]"
                        ]
                    },
                    "metadata": {},
                    "output_type": "display_data"
                },
                {
                    "data": {
                        "application/vnd.jupyter.widget-view+json": {
                            "model_id": "088316ba7d4a47e7afac1e49c763005d",
                            "version_major": 2,
                            "version_minor": 0
                        },
                        "text/plain": [
                            "data/chunk-000/episode_000035.parquet:   0%|          | 0.00/53.9k [00:00<?, ?B/s]"
                        ]
                    },
                    "metadata": {},
                    "output_type": "display_data"
                },
                {
                    "data": {
                        "application/vnd.jupyter.widget-view+json": {
                            "model_id": "4858d33f5f1546e79615182f3019c0a0",
                            "version_major": 2,
                            "version_minor": 0
                        },
                        "text/plain": [
                            "data/chunk-000/episode_000036.parquet:   0%|          | 0.00/52.9k [00:00<?, ?B/s]"
                        ]
                    },
                    "metadata": {},
                    "output_type": "display_data"
                },
                {
                    "data": {
                        "application/vnd.jupyter.widget-view+json": {
                            "model_id": "de080420673746448c5a9d144fd825c6",
                            "version_major": 2,
                            "version_minor": 0
                        },
                        "text/plain": [
                            "data/chunk-000/episode_000037.parquet:   0%|          | 0.00/52.9k [00:00<?, ?B/s]"
                        ]
                    },
                    "metadata": {},
                    "output_type": "display_data"
                },
                {
                    "data": {
                        "application/vnd.jupyter.widget-view+json": {
                            "model_id": "cea3db04c9e8455089a098d224344a67",
                            "version_major": 2,
                            "version_minor": 0
                        },
                        "text/plain": [
                            "data/chunk-000/episode_000038.parquet:   0%|          | 0.00/54.4k [00:00<?, ?B/s]"
                        ]
                    },
                    "metadata": {},
                    "output_type": "display_data"
                },
                {
                    "data": {
                        "application/vnd.jupyter.widget-view+json": {
                            "model_id": "6aad4569a3cc42edbb327dc597af68a2",
                            "version_major": 2,
                            "version_minor": 0
                        },
                        "text/plain": [
                            "data/chunk-000/episode_000039.parquet:   0%|          | 0.00/54.1k [00:00<?, ?B/s]"
                        ]
                    },
                    "metadata": {},
                    "output_type": "display_data"
                },
                {
                    "data": {
                        "application/vnd.jupyter.widget-view+json": {
                            "model_id": "5f9e07109918447abfb1d49e0e01f7e5",
                            "version_major": 2,
                            "version_minor": 0
                        },
                        "text/plain": [
                            "data/chunk-000/episode_000040.parquet:   0%|          | 0.00/53.4k [00:00<?, ?B/s]"
                        ]
                    },
                    "metadata": {},
                    "output_type": "display_data"
                },
                {
                    "data": {
                        "application/vnd.jupyter.widget-view+json": {
                            "model_id": "d816a902acf542c59bef0cd59163c249",
                            "version_major": 2,
                            "version_minor": 0
                        },
                        "text/plain": [
                            "data/chunk-000/episode_000041.parquet:   0%|          | 0.00/52.6k [00:00<?, ?B/s]"
                        ]
                    },
                    "metadata": {},
                    "output_type": "display_data"
                },
                {
                    "data": {
                        "application/vnd.jupyter.widget-view+json": {
                            "model_id": "ad65af5820c645488de8fb9f1dd917cb",
                            "version_major": 2,
                            "version_minor": 0
                        },
                        "text/plain": [
                            "data/chunk-000/episode_000042.parquet:   0%|          | 0.00/54.0k [00:00<?, ?B/s]"
                        ]
                    },
                    "metadata": {},
                    "output_type": "display_data"
                },
                {
                    "data": {
                        "application/vnd.jupyter.widget-view+json": {
                            "model_id": "97fcf9cf0d8f44ca8d7ad8eafe31f8e0",
                            "version_major": 2,
                            "version_minor": 0
                        },
                        "text/plain": [
                            "data/chunk-000/episode_000043.parquet:   0%|          | 0.00/53.7k [00:00<?, ?B/s]"
                        ]
                    },
                    "metadata": {},
                    "output_type": "display_data"
                },
                {
                    "data": {
                        "application/vnd.jupyter.widget-view+json": {
                            "model_id": "c4fee48522ab4729b51124c0d5e1812c",
                            "version_major": 2,
                            "version_minor": 0
                        },
                        "text/plain": [
                            "data/chunk-000/episode_000044.parquet:   0%|          | 0.00/52.2k [00:00<?, ?B/s]"
                        ]
                    },
                    "metadata": {},
                    "output_type": "display_data"
                },
                {
                    "data": {
                        "application/vnd.jupyter.widget-view+json": {
                            "model_id": "3a8c8f11a60545a6a9dca36e1b6e0800",
                            "version_major": 2,
                            "version_minor": 0
                        },
                        "text/plain": [
                            "data/chunk-000/episode_000045.parquet:   0%|          | 0.00/53.9k [00:00<?, ?B/s]"
                        ]
                    },
                    "metadata": {},
                    "output_type": "display_data"
                },
                {
                    "data": {
                        "application/vnd.jupyter.widget-view+json": {
                            "model_id": "94204e9f5e1a472c8e645821ab2b4e34",
                            "version_major": 2,
                            "version_minor": 0
                        },
                        "text/plain": [
                            "data/chunk-000/episode_000046.parquet:   0%|          | 0.00/54.1k [00:00<?, ?B/s]"
                        ]
                    },
                    "metadata": {},
                    "output_type": "display_data"
                },
                {
                    "data": {
                        "application/vnd.jupyter.widget-view+json": {
                            "model_id": "0e122bf917024ac28f8599aaddbde383",
                            "version_major": 2,
                            "version_minor": 0
                        },
                        "text/plain": [
                            "data/chunk-000/episode_000047.parquet:   0%|          | 0.00/51.7k [00:00<?, ?B/s]"
                        ]
                    },
                    "metadata": {},
                    "output_type": "display_data"
                },
                {
                    "data": {
                        "application/vnd.jupyter.widget-view+json": {
                            "model_id": "94ed2b680d854b8fbd06014518cb2523",
                            "version_major": 2,
                            "version_minor": 0
                        },
                        "text/plain": [
                            "data/chunk-000/episode_000048.parquet:   0%|          | 0.00/52.5k [00:00<?, ?B/s]"
                        ]
                    },
                    "metadata": {},
                    "output_type": "display_data"
                },
                {
                    "data": {
                        "application/vnd.jupyter.widget-view+json": {
                            "model_id": "7d06689feb4541e08251a3b5f2f37437",
                            "version_major": 2,
                            "version_minor": 0
                        },
                        "text/plain": [
                            "videos/chunk-000/observation.images.top/(…):   0%|          | 0.00/1.31M [00:00<?, ?B/s]"
                        ]
                    },
                    "metadata": {},
                    "output_type": "display_data"
                },
                {
                    "data": {
                        "application/vnd.jupyter.widget-view+json": {
                            "model_id": "824aa836a0274b60962a75a128179850",
                            "version_major": 2,
                            "version_minor": 0
                        },
                        "text/plain": [
                            "data/chunk-000/episode_000049.parquet:   0%|          | 0.00/53.5k [00:00<?, ?B/s]"
                        ]
                    },
                    "metadata": {},
                    "output_type": "display_data"
                },
                {
                    "data": {
                        "application/vnd.jupyter.widget-view+json": {
                            "model_id": "672ddf2e510b44f29c169e7ca74f4d64",
                            "version_major": 2,
                            "version_minor": 0
                        },
                        "text/plain": [
                            "videos/chunk-000/observation.images.top/(…):   0%|          | 0.00/1.34M [00:00<?, ?B/s]"
                        ]
                    },
                    "metadata": {},
                    "output_type": "display_data"
                },
                {
                    "data": {
                        "application/vnd.jupyter.widget-view+json": {
                            "model_id": "6bbcee1c76cf4910bb9f3cfbf3ee6690",
                            "version_major": 2,
                            "version_minor": 0
                        },
                        "text/plain": [
                            "videos/chunk-000/observation.images.top/(…):   0%|          | 0.00/1.40M [00:00<?, ?B/s]"
                        ]
                    },
                    "metadata": {},
                    "output_type": "display_data"
                },
                {
                    "data": {
                        "application/vnd.jupyter.widget-view+json": {
                            "model_id": "c0f2b8ba9d9b4738a641d9bc29ee6c45",
                            "version_major": 2,
                            "version_minor": 0
                        },
                        "text/plain": [
                            "videos/chunk-000/observation.images.top/(…):   0%|          | 0.00/1.39M [00:00<?, ?B/s]"
                        ]
                    },
                    "metadata": {},
                    "output_type": "display_data"
                },
                {
                    "data": {
                        "application/vnd.jupyter.widget-view+json": {
                            "model_id": "1b40da0e200c475aa9d91f02646537e9",
                            "version_major": 2,
                            "version_minor": 0
                        },
                        "text/plain": [
                            "videos/chunk-000/observation.images.top/(…):   0%|          | 0.00/1.35M [00:00<?, ?B/s]"
                        ]
                    },
                    "metadata": {},
                    "output_type": "display_data"
                },
                {
                    "data": {
                        "application/vnd.jupyter.widget-view+json": {
                            "model_id": "32558a1dbc1542fcb337a34e90e83a93",
                            "version_major": 2,
                            "version_minor": 0
                        },
                        "text/plain": [
                            "videos/chunk-000/observation.images.top/(…):   0%|          | 0.00/1.36M [00:00<?, ?B/s]"
                        ]
                    },
                    "metadata": {},
                    "output_type": "display_data"
                },
                {
                    "data": {
                        "application/vnd.jupyter.widget-view+json": {
                            "model_id": "83faba494fa74e7aaba005c72c8d75b3",
                            "version_major": 2,
                            "version_minor": 0
                        },
                        "text/plain": [
                            "videos/chunk-000/observation.images.top/(…):   0%|          | 0.00/1.36M [00:00<?, ?B/s]"
                        ]
                    },
                    "metadata": {},
                    "output_type": "display_data"
                },
                {
                    "data": {
                        "application/vnd.jupyter.widget-view+json": {
                            "model_id": "d45e82057def4fb4b9a5fb1f24bc1754",
                            "version_major": 2,
                            "version_minor": 0
                        },
                        "text/plain": [
                            "videos/chunk-000/observation.images.top/(…):   0%|          | 0.00/1.38M [00:00<?, ?B/s]"
                        ]
                    },
                    "metadata": {},
                    "output_type": "display_data"
                },
                {
                    "data": {
                        "application/vnd.jupyter.widget-view+json": {
                            "model_id": "39a90d9634d54606b1ffb6b1c5a4f2ba",
                            "version_major": 2,
                            "version_minor": 0
                        },
                        "text/plain": [
                            "videos/chunk-000/observation.images.top/(…):   0%|          | 0.00/1.36M [00:00<?, ?B/s]"
                        ]
                    },
                    "metadata": {},
                    "output_type": "display_data"
                },
                {
                    "data": {
                        "application/vnd.jupyter.widget-view+json": {
                            "model_id": "8ebf54c6db41454fb6d23406f3fcbf96",
                            "version_major": 2,
                            "version_minor": 0
                        },
                        "text/plain": [
                            "videos/chunk-000/observation.images.top/(…):   0%|          | 0.00/1.34M [00:00<?, ?B/s]"
                        ]
                    },
                    "metadata": {},
                    "output_type": "display_data"
                },
                {
                    "data": {
                        "application/vnd.jupyter.widget-view+json": {
                            "model_id": "1bd566e28276478b82fb836c0b20e043",
                            "version_major": 2,
                            "version_minor": 0
                        },
                        "text/plain": [
                            "videos/chunk-000/observation.images.top/(…):   0%|          | 0.00/1.34M [00:00<?, ?B/s]"
                        ]
                    },
                    "metadata": {},
                    "output_type": "display_data"
                },
                {
                    "data": {
                        "application/vnd.jupyter.widget-view+json": {
                            "model_id": "ee050b909942446fa73eb41cb238864c",
                            "version_major": 2,
                            "version_minor": 0
                        },
                        "text/plain": [
                            "videos/chunk-000/observation.images.top/(…):   0%|          | 0.00/1.36M [00:00<?, ?B/s]"
                        ]
                    },
                    "metadata": {},
                    "output_type": "display_data"
                },
                {
                    "data": {
                        "application/vnd.jupyter.widget-view+json": {
                            "model_id": "07d84326333f449fa805b5e8bbcd11c6",
                            "version_major": 2,
                            "version_minor": 0
                        },
                        "text/plain": [
                            "videos/chunk-000/observation.images.top/(…):   0%|          | 0.00/1.40M [00:00<?, ?B/s]"
                        ]
                    },
                    "metadata": {},
                    "output_type": "display_data"
                },
                {
                    "data": {
                        "application/vnd.jupyter.widget-view+json": {
                            "model_id": "bf74bcd42f1b400d82b0cd9aa6931869",
                            "version_major": 2,
                            "version_minor": 0
                        },
                        "text/plain": [
                            "videos/chunk-000/observation.images.top/(…):   0%|          | 0.00/1.35M [00:00<?, ?B/s]"
                        ]
                    },
                    "metadata": {},
                    "output_type": "display_data"
                },
                {
                    "data": {
                        "application/vnd.jupyter.widget-view+json": {
                            "model_id": "c431981b456c4006adecd9feb2fad6f5",
                            "version_major": 2,
                            "version_minor": 0
                        },
                        "text/plain": [
                            "videos/chunk-000/observation.images.top/(…):   0%|          | 0.00/1.38M [00:00<?, ?B/s]"
                        ]
                    },
                    "metadata": {},
                    "output_type": "display_data"
                },
                {
                    "data": {
                        "application/vnd.jupyter.widget-view+json": {
                            "model_id": "1d8bc4adf7df4564a50e75ee45aafb1f",
                            "version_major": 2,
                            "version_minor": 0
                        },
                        "text/plain": [
                            "videos/chunk-000/observation.images.top/(…):   0%|          | 0.00/1.34M [00:00<?, ?B/s]"
                        ]
                    },
                    "metadata": {},
                    "output_type": "display_data"
                },
                {
                    "data": {
                        "application/vnd.jupyter.widget-view+json": {
                            "model_id": "694de95165864326bd1822013c8aad0f",
                            "version_major": 2,
                            "version_minor": 0
                        },
                        "text/plain": [
                            "videos/chunk-000/observation.images.top/(…):   0%|          | 0.00/1.32M [00:00<?, ?B/s]"
                        ]
                    },
                    "metadata": {},
                    "output_type": "display_data"
                },
                {
                    "data": {
                        "application/vnd.jupyter.widget-view+json": {
                            "model_id": "38f0932646894ef98e675f3fd578d86b",
                            "version_major": 2,
                            "version_minor": 0
                        },
                        "text/plain": [
                            "videos/chunk-000/observation.images.top/(…):   0%|          | 0.00/1.33M [00:00<?, ?B/s]"
                        ]
                    },
                    "metadata": {},
                    "output_type": "display_data"
                },
                {
                    "data": {
                        "application/vnd.jupyter.widget-view+json": {
                            "model_id": "a15a48e929f14cd9983aa52be864fa47",
                            "version_major": 2,
                            "version_minor": 0
                        },
                        "text/plain": [
                            "videos/chunk-000/observation.images.top/(…):   0%|          | 0.00/1.32M [00:00<?, ?B/s]"
                        ]
                    },
                    "metadata": {},
                    "output_type": "display_data"
                },
                {
                    "data": {
                        "application/vnd.jupyter.widget-view+json": {
                            "model_id": "e67a73bd639b4e458c0638bcc71b29be",
                            "version_major": 2,
                            "version_minor": 0
                        },
                        "text/plain": [
                            "videos/chunk-000/observation.images.top/(…):   0%|          | 0.00/1.29M [00:00<?, ?B/s]"
                        ]
                    },
                    "metadata": {},
                    "output_type": "display_data"
                },
                {
                    "data": {
                        "application/vnd.jupyter.widget-view+json": {
                            "model_id": "d8684e4b72224861a615bb1f4dac8d1a",
                            "version_major": 2,
                            "version_minor": 0
                        },
                        "text/plain": [
                            "videos/chunk-000/observation.images.top/(…):   0%|          | 0.00/1.34M [00:00<?, ?B/s]"
                        ]
                    },
                    "metadata": {},
                    "output_type": "display_data"
                },
                {
                    "data": {
                        "application/vnd.jupyter.widget-view+json": {
                            "model_id": "84c935fb7c9a4ab09c9f83af96e99e91",
                            "version_major": 2,
                            "version_minor": 0
                        },
                        "text/plain": [
                            "videos/chunk-000/observation.images.top/(…):   0%|          | 0.00/1.35M [00:00<?, ?B/s]"
                        ]
                    },
                    "metadata": {},
                    "output_type": "display_data"
                },
                {
                    "data": {
                        "application/vnd.jupyter.widget-view+json": {
                            "model_id": "3daf689e2f76469aa9b0528db8dabf4c",
                            "version_major": 2,
                            "version_minor": 0
                        },
                        "text/plain": [
                            "videos/chunk-000/observation.images.top/(…):   0%|          | 0.00/1.31M [00:00<?, ?B/s]"
                        ]
                    },
                    "metadata": {},
                    "output_type": "display_data"
                },
                {
                    "data": {
                        "application/vnd.jupyter.widget-view+json": {
                            "model_id": "8a6a7686391e4970b846c3958fcb3afe",
                            "version_major": 2,
                            "version_minor": 0
                        },
                        "text/plain": [
                            "videos/chunk-000/observation.images.top/(…):   0%|          | 0.00/1.37M [00:00<?, ?B/s]"
                        ]
                    },
                    "metadata": {},
                    "output_type": "display_data"
                },
                {
                    "data": {
                        "application/vnd.jupyter.widget-view+json": {
                            "model_id": "fe2d8f1163db42cab97f3e625130c075",
                            "version_major": 2,
                            "version_minor": 0
                        },
                        "text/plain": [
                            "videos/chunk-000/observation.images.top/(…):   0%|          | 0.00/1.37M [00:00<?, ?B/s]"
                        ]
                    },
                    "metadata": {},
                    "output_type": "display_data"
                },
                {
                    "data": {
                        "application/vnd.jupyter.widget-view+json": {
                            "model_id": "a8be1c1f8a844563a661be6143153045",
                            "version_major": 2,
                            "version_minor": 0
                        },
                        "text/plain": [
                            "videos/chunk-000/observation.images.top/(…):   0%|          | 0.00/1.38M [00:00<?, ?B/s]"
                        ]
                    },
                    "metadata": {},
                    "output_type": "display_data"
                },
                {
                    "data": {
                        "application/vnd.jupyter.widget-view+json": {
                            "model_id": "69aede5403e240258576f7390a7284f9",
                            "version_major": 2,
                            "version_minor": 0
                        },
                        "text/plain": [
                            "videos/chunk-000/observation.images.top/(…):   0%|          | 0.00/1.34M [00:00<?, ?B/s]"
                        ]
                    },
                    "metadata": {},
                    "output_type": "display_data"
                },
                {
                    "data": {
                        "application/vnd.jupyter.widget-view+json": {
                            "model_id": "6d591165e17341a086601e71c405df5b",
                            "version_major": 2,
                            "version_minor": 0
                        },
                        "text/plain": [
                            "videos/chunk-000/observation.images.top/(…):   0%|          | 0.00/1.30M [00:00<?, ?B/s]"
                        ]
                    },
                    "metadata": {},
                    "output_type": "display_data"
                },
                {
                    "data": {
                        "application/vnd.jupyter.widget-view+json": {
                            "model_id": "9e6767da069f4fc18b8aa48a4a0d2ff3",
                            "version_major": 2,
                            "version_minor": 0
                        },
                        "text/plain": [
                            "videos/chunk-000/observation.images.top/(…):   0%|          | 0.00/1.36M [00:00<?, ?B/s]"
                        ]
                    },
                    "metadata": {},
                    "output_type": "display_data"
                },
                {
                    "data": {
                        "application/vnd.jupyter.widget-view+json": {
                            "model_id": "401baad3902640f7965c5389efa4fc94",
                            "version_major": 2,
                            "version_minor": 0
                        },
                        "text/plain": [
                            "videos/chunk-000/observation.images.top/(…):   0%|          | 0.00/1.40M [00:00<?, ?B/s]"
                        ]
                    },
                    "metadata": {},
                    "output_type": "display_data"
                },
                {
                    "data": {
                        "application/vnd.jupyter.widget-view+json": {
                            "model_id": "ae98e91aad1440f192494b5301d604ff",
                            "version_major": 2,
                            "version_minor": 0
                        },
                        "text/plain": [
                            "videos/chunk-000/observation.images.top/(…):   0%|          | 0.00/1.32M [00:00<?, ?B/s]"
                        ]
                    },
                    "metadata": {},
                    "output_type": "display_data"
                },
                {
                    "data": {
                        "application/vnd.jupyter.widget-view+json": {
                            "model_id": "cf1580550f5140d08bf49dfd7e6ec33f",
                            "version_major": 2,
                            "version_minor": 0
                        },
                        "text/plain": [
                            "videos/chunk-000/observation.images.top/(…):   0%|          | 0.00/1.36M [00:00<?, ?B/s]"
                        ]
                    },
                    "metadata": {},
                    "output_type": "display_data"
                },
                {
                    "data": {
                        "application/vnd.jupyter.widget-view+json": {
                            "model_id": "60a4bbb82f56442c84c49f86d18d9fe8",
                            "version_major": 2,
                            "version_minor": 0
                        },
                        "text/plain": [
                            "videos/chunk-000/observation.images.top/(…):   0%|          | 0.00/1.35M [00:00<?, ?B/s]"
                        ]
                    },
                    "metadata": {},
                    "output_type": "display_data"
                },
                {
                    "data": {
                        "application/vnd.jupyter.widget-view+json": {
                            "model_id": "67124567b2cd4db3917f9daa5321ff97",
                            "version_major": 2,
                            "version_minor": 0
                        },
                        "text/plain": [
                            "videos/chunk-000/observation.images.top/(…):   0%|          | 0.00/1.35M [00:00<?, ?B/s]"
                        ]
                    },
                    "metadata": {},
                    "output_type": "display_data"
                },
                {
                    "data": {
                        "application/vnd.jupyter.widget-view+json": {
                            "model_id": "5c1293781389498bb1abd9cdd82de309",
                            "version_major": 2,
                            "version_minor": 0
                        },
                        "text/plain": [
                            "videos/chunk-000/observation.images.top/(…):   0%|          | 0.00/1.37M [00:00<?, ?B/s]"
                        ]
                    },
                    "metadata": {},
                    "output_type": "display_data"
                },
                {
                    "data": {
                        "application/vnd.jupyter.widget-view+json": {
                            "model_id": "bacd775f5d9a4aa5ab9783e19e26bd35",
                            "version_major": 2,
                            "version_minor": 0
                        },
                        "text/plain": [
                            "videos/chunk-000/observation.images.top/(…):   0%|          | 0.00/1.35M [00:00<?, ?B/s]"
                        ]
                    },
                    "metadata": {},
                    "output_type": "display_data"
                },
                {
                    "data": {
                        "application/vnd.jupyter.widget-view+json": {
                            "model_id": "39c762c92cc84db7bac10d0031ce1410",
                            "version_major": 2,
                            "version_minor": 0
                        },
                        "text/plain": [
                            "videos/chunk-000/observation.images.top/(…):   0%|          | 0.00/1.38M [00:00<?, ?B/s]"
                        ]
                    },
                    "metadata": {},
                    "output_type": "display_data"
                },
                {
                    "data": {
                        "application/vnd.jupyter.widget-view+json": {
                            "model_id": "b95ec3b09f384ae1923a3dbe800a1734",
                            "version_major": 2,
                            "version_minor": 0
                        },
                        "text/plain": [
                            "videos/chunk-000/observation.images.top/(…):   0%|          | 0.00/1.37M [00:00<?, ?B/s]"
                        ]
                    },
                    "metadata": {},
                    "output_type": "display_data"
                },
                {
                    "data": {
                        "application/vnd.jupyter.widget-view+json": {
                            "model_id": "cf63d2b5447647509f96534f15eb7258",
                            "version_major": 2,
                            "version_minor": 0
                        },
                        "text/plain": [
                            "videos/chunk-000/observation.images.top/(…):   0%|          | 0.00/1.37M [00:00<?, ?B/s]"
                        ]
                    },
                    "metadata": {},
                    "output_type": "display_data"
                },
                {
                    "data": {
                        "application/vnd.jupyter.widget-view+json": {
                            "model_id": "73b2882597084094a3a59b06cf773e48",
                            "version_major": 2,
                            "version_minor": 0
                        },
                        "text/plain": [
                            "videos/chunk-000/observation.images.top/(…):   0%|          | 0.00/1.38M [00:00<?, ?B/s]"
                        ]
                    },
                    "metadata": {},
                    "output_type": "display_data"
                },
                {
                    "data": {
                        "application/vnd.jupyter.widget-view+json": {
                            "model_id": "29c2bfd5d66d4271ac607b823d667bc5",
                            "version_major": 2,
                            "version_minor": 0
                        },
                        "text/plain": [
                            "videos/chunk-000/observation.images.top/(…):   0%|          | 0.00/1.32M [00:00<?, ?B/s]"
                        ]
                    },
                    "metadata": {},
                    "output_type": "display_data"
                },
                {
                    "data": {
                        "application/vnd.jupyter.widget-view+json": {
                            "model_id": "f07f9de8eb3e434c9472228d8670bd70",
                            "version_major": 2,
                            "version_minor": 0
                        },
                        "text/plain": [
                            "videos/chunk-000/observation.images.top/(…):   0%|          | 0.00/1.31M [00:00<?, ?B/s]"
                        ]
                    },
                    "metadata": {},
                    "output_type": "display_data"
                },
                {
                    "data": {
                        "application/vnd.jupyter.widget-view+json": {
                            "model_id": "d6e4e8fa6fd34959894616ad3a4aa831",
                            "version_major": 2,
                            "version_minor": 0
                        },
                        "text/plain": [
                            "videos/chunk-000/observation.images.top/(…):   0%|          | 0.00/1.38M [00:00<?, ?B/s]"
                        ]
                    },
                    "metadata": {},
                    "output_type": "display_data"
                },
                {
                    "data": {
                        "application/vnd.jupyter.widget-view+json": {
                            "model_id": "cbf75f2d07604a458a52da0f82b2603b",
                            "version_major": 2,
                            "version_minor": 0
                        },
                        "text/plain": [
                            "videos/chunk-000/observation.images.top/(…):   0%|          | 0.00/1.33M [00:00<?, ?B/s]"
                        ]
                    },
                    "metadata": {},
                    "output_type": "display_data"
                },
                {
                    "data": {
                        "application/vnd.jupyter.widget-view+json": {
                            "model_id": "2b5064e822bd484a91b0d2e74ca9b093",
                            "version_major": 2,
                            "version_minor": 0
                        },
                        "text/plain": [
                            "videos/chunk-000/observation.images.top/(…):   0%|          | 0.00/1.36M [00:00<?, ?B/s]"
                        ]
                    },
                    "metadata": {},
                    "output_type": "display_data"
                },
                {
                    "data": {
                        "application/vnd.jupyter.widget-view+json": {
                            "model_id": "505cee35fedd44d3a5164c1393159828",
                            "version_major": 2,
                            "version_minor": 0
                        },
                        "text/plain": [
                            "videos/chunk-000/observation.images.top/(…):   0%|          | 0.00/1.36M [00:00<?, ?B/s]"
                        ]
                    },
                    "metadata": {},
                    "output_type": "display_data"
                },
                {
                    "data": {
                        "application/vnd.jupyter.widget-view+json": {
                            "model_id": "9d01097095dd46bb91c10a6fb3e237de",
                            "version_major": 2,
                            "version_minor": 0
                        },
                        "text/plain": [
                            "videos/chunk-000/observation.images.top/(…):   0%|          | 0.00/1.34M [00:00<?, ?B/s]"
                        ]
                    },
                    "metadata": {},
                    "output_type": "display_data"
                },
                {
                    "data": {
                        "application/vnd.jupyter.widget-view+json": {
                            "model_id": "1863aaee9f154f3e83c1aaf68522b6ef",
                            "version_major": 2,
                            "version_minor": 0
                        },
                        "text/plain": [
                            "videos/chunk-000/observation.images.top/(…):   0%|          | 0.00/1.33M [00:00<?, ?B/s]"
                        ]
                    },
                    "metadata": {},
                    "output_type": "display_data"
                },
                {
                    "data": {
                        "application/vnd.jupyter.widget-view+json": {
                            "model_id": "8e7af5fed15646a0af2c3ae0d229cb55",
                            "version_major": 2,
                            "version_minor": 0
                        },
                        "text/plain": [
                            "videos/chunk-000/observation.images.top/(…):   0%|          | 0.00/1.39M [00:00<?, ?B/s]"
                        ]
                    },
                    "metadata": {},
                    "output_type": "display_data"
                },
                {
                    "data": {
                        "application/vnd.jupyter.widget-view+json": {
                            "model_id": "e3acbe0fada24779ab5f758d42d1a0cd",
                            "version_major": 2,
                            "version_minor": 0
                        },
                        "text/plain": [
                            "videos/chunk-000/observation.images.top/(…):   0%|          | 0.00/1.32M [00:00<?, ?B/s]"
                        ]
                    },
                    "metadata": {},
                    "output_type": "display_data"
                },
                {
                    "data": {
                        "application/vnd.jupyter.widget-view+json": {
                            "model_id": "7affcd3f7b0b4060bb5537bdd16a15af",
                            "version_major": 2,
                            "version_minor": 0
                        },
                        "text/plain": [
                            "Resolving data files:   0%|          | 0/50 [00:00<?, ?it/s]"
                        ]
                    },
                    "metadata": {},
                    "output_type": "display_data"
                },
                {
                    "data": {
                        "application/vnd.jupyter.widget-view+json": {
                            "model_id": "4b07bcff184b4e2ea466fa87ee7f9abf",
                            "version_major": 2,
                            "version_minor": 0
                        },
                        "text/plain": [
                            "Downloading data:   0%|          | 0/50 [00:00<?, ?files/s]"
                        ]
                    },
                    "metadata": {},
                    "output_type": "display_data"
                },
                {
                    "data": {
                        "application/vnd.jupyter.widget-view+json": {
                            "model_id": "6739071ef4bb4d328c1ed41d75cbf074",
                            "version_major": 2,
                            "version_minor": 0
                        },
                        "text/plain": [
                            "Generating train split: 0 examples [00:00, ? examples/s]"
                        ]
                    },
                    "metadata": {},
                    "output_type": "display_data"
                },
                {
                    "name": "stdout",
                    "output_type": "stream",
                    "text": [
                        "Loss shape: (2, 50)\n"
                    ]
                }
            ],
            "source": [
                "# Reduce the batch size to reduce memory usage.\n",
                "config = dataclasses.replace(config, batch_size=2)\n",
                "\n",
                "# Load a single batch of data. This is the same data that will be used during training.\n",
                "# NOTE: In order to make this example self-contained, we are skipping the normalization step\n",
                "# since it requires the normalization statistics to be generated using `compute_norm_stats`.\n",
                "loader = _data_loader.create_data_loader(config, num_batches=1, skip_norm_stats=True)\n",
                "obs, act = next(iter(loader))\n",
                "\n",
                "# Sample actions from the model.\n",
                "loss = model.compute_loss(key, obs, act)\n",
                "\n",
                "# Delete the model to free up memory.\n",
                "del model\n",
                "\n",
                "print(\"Loss shape:\", loss.shape)"
            ]
        }
    ],
    "metadata": {
        "kernelspec": {
            "display_name": "openpi",
            "language": "python",
            "name": "python3"
        },
        "language_info": {
            "codemirror_mode": {
                "name": "ipython",
                "version": 3
            },
            "file_extension": ".py",
            "mimetype": "text/x-python",
            "name": "python",
            "nbconvert_exporter": "python",
            "pygments_lexer": "ipython3",
            "version": "3.11.13"
        }
    },
    "nbformat": 4,
    "nbformat_minor": 2
}
